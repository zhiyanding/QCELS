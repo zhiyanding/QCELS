{
 "cells": [
  {
   "cell_type": "code",
   "execution_count": 1,
   "metadata": {},
   "outputs": [],
   "source": [
    "import scipy.io as sio\n",
    "import numpy as np\n",
    "from copy import deepcopy\n",
    "from scipy.optimize import minimize\n",
    "from matplotlib import pyplot as plt\n",
    "from scipy.special import erf\n",
    "from mpl_toolkits.mplot3d import Axes3D\n",
    "import cmath\n",
    "import matplotlib\n",
    "import hubbard_1d\n",
    "import quspin\n",
    "import fejer_kernel\n",
    "import fourier_filter\n",
    "import generate_cdf\n",
    "from qcels import *\n",
    "matplotlib.rcParams['font.size'] = 15\n",
    "matplotlib.rcParams['lines.markersize'] = 10"
   ]
  },
  {
   "cell_type": "code",
   "execution_count": 2,
   "metadata": {},
   "outputs": [
    {
     "data": {
      "image/png": "[encoded data removed]",
      "text/plain": [
       "<Figure size 432x288 with 1 Axes>"
      ]
     },
     "metadata": {
      "needs_background": "light"
     },
     "output_type": "display_data"
    },
    {
     "name": "stdout",
     "output_type": "stream",
     "text": [
      "[4.29609394e-01 5.61601172e-31]\n"
     ]
    },
    {
     "data": {
      "image/png": "[encoded data removed]",
      "text/plain": [
       "<Figure size 432x288 with 1 Axes>"
      ]
     },
     "metadata": {
      "needs_background": "light"
     },
     "output_type": "display_data"
    }
   ],
   "source": [
    "###-------spectrum of Hubbard model with 4 sites---------------\n",
    "num_sites = 4\n",
    "J = 1.0\n",
    "U = 10.0\n",
    "U0 = 0.0\n",
    "mu = 0.0\n",
    "N_up = num_sites // 2\n",
    "N_down = num_sites - N_up\n",
    "\n",
    "num_eigenstates_max = 100\n",
    "\n",
    "ham0 = hubbard_1d.generate_ham(num_sites, J, U0, mu, N_up, N_down)\n",
    "ground_state_0 = ham0.eigsh(k=1,which=\"SA\")[1][:,0]\n",
    "\n",
    "ham = hubbard_1d.generate_ham(num_sites, J, U, mu, N_up, N_down)\n",
    "if( num_eigenstates_max > ham.shape[0] // 2):\n",
    "    eigenenergies, eigenstates = ham.eigh()\n",
    "else:\n",
    "    eigenenergies, eigenstates = ham.eigsh(k=num_eigenstates_max,which=\"SA\")\n",
    "ground_state = eigenstates[:,0]\n",
    "\n",
    "population_raw = np.abs(np.dot(eigenstates.conj().T, ground_state_0))**2\n",
    "\n",
    "plt.plot(eigenenergies,population_raw,'b-o');plt.show()\n",
    "\n",
    "spectrum, population = generate_spectrum_population(eigenenergies, population_raw, \n",
    "                                                    [population_raw[0],population_raw[1]])\n",
    "\n",
    "plt.plot(spectrum, population,'b-o');plt.show()\n"
   ]
  },
  {
   "cell_type": "code",
   "execution_count": 10,
   "metadata": {
    "scrolled": true
   },
   "outputs": [
    {
     "name": "stdout",
     "output_type": "stream",
     "text": [
      "For p0= 0.4 For N_test= 1\n",
      "[0.4 0.1]\n",
      "d= 23 rel_gap =  0.6271932206802961 rel_overlap 0.7970177089522112\n",
      "For p0= 0.4 For N_test= 2\n",
      "[0.4 0.1]\n",
      "d= 23 rel_gap =  0.6271932206802961 rel_overlap 0.7970177089522112\n",
      "For p0= 0.4 For N_test= 3\n",
      "[0.4 0.1]\n",
      "d= 23 rel_gap =  0.6271932206802961 rel_overlap 0.7970177089522112\n",
      "For p0= 0.4 For N_test= 4\n",
      "[0.4 0.1]\n",
      "d= 23 rel_gap =  0.6271932206802961 rel_overlap 0.7970177089522112\n",
      "For p0= 0.4 For N_test= 5\n",
      "[0.4 0.1]\n",
      "d= 23 rel_gap =  0.6271932206802961 rel_overlap 0.7970177089522112\n",
      "For p0= 0.1 For N_test= 1\n",
      "[0.1   0.025]\n",
      "d= 23 rel_gap =  0.6271932206802961 rel_overlap 0.7795806852131579\n",
      "For p0= 0.1 For N_test= 2\n",
      "[0.1   0.025]\n",
      "d= 23 rel_gap =  0.6271932206802961 rel_overlap 0.7795806852131579\n",
      "For p0= 0.1 For N_test= 3\n",
      "[0.1   0.025]\n",
      "d= 23 rel_gap =  0.6271932206802961 rel_overlap 0.7795806852131579\n",
      "For p0= 0.1 For N_test= 4\n",
      "[0.1   0.025]\n",
      "d= 23 rel_gap =  0.6271932206802961 rel_overlap 0.7795806852131579\n",
      "For p0= 0.1 For N_test= 5\n",
      "[0.1   0.025]\n",
      "d= 23 rel_gap =  0.6271932206802961 rel_overlap 0.7795806852131579\n"
     ]
    }
   ],
   "source": [
    "p0_array=np.array([0.4,0.1]) #initial overlap with the first eigenvector\n",
    "p1_array=np.array([0.1,0.025]) #initial overlap with the second eigenvector\n",
    "#relative population=0.8\n",
    "T0 = 8000\n",
    "N_test_QCELS = 10  #number of different circuit depths for QCELS test\n",
    "N_QPE = 10  #number of different circuit depths for QCELS QPE test\n",
    "T_list_QCELS = 1150+T0/4*(np.arange(N_test_QCELS)) #circuit depth for QCELS\n",
    "T_list_QPE = 1150+T0*7.5*(np.arange(N_QPE)) #circuit depth for QPE\n",
    "err_QCELS=np.zeros((len(p0_array),len(T_list_QCELS)))\n",
    "err_QPE=np.zeros((len(p0_array),len(T_list_QPE)))\n",
    "cost_list_avg_QCELS = np.zeros((len(p0_array),len(T_list_QCELS)))\n",
    "cost_list_avg_QPE = np.zeros((len(p0_array),len(T_list_QPE)))\n",
    "rate_success_QCELS=np.zeros((len(p0_array),len(T_list_QCELS)))\n",
    "rate_success_QPE=np.zeros((len(p0_array),len(T_list_QPE)))\n",
    "max_T_QCELS=np.zeros((len(p0_array),len(T_list_QCELS)))\n",
    "Navg = 5 #number of trying\n",
    "err_thres_hold=0.01\n",
    "err_thres_hold_QPE=0.01\n",
    "#-----------------------------    \n",
    "for a1 in range(len(p0_array)):\n",
    "    p0=p0_array[a1]\n",
    "    p1=p1_array[a1]\n",
    "    n_success_QCELS= np.zeros(len(T_list_QCELS))\n",
    "    n_success_QPE= np.zeros(len(T_list_QPE))\n",
    "    for n_test in range(Navg):\n",
    "        print(\"For p0=\",p0,\"For N_test=\",n_test+1)\n",
    "        spectrum, population = generate_spectrum_population(eigenenergies, population_raw, [p0,p1])\n",
    "        #------------------QCELS-----------------\n",
    "        # heuristic estimate of relative gap\n",
    "        rel_gap_idx = np.where(population>p0/2)[0][1]\n",
    "        rel_gap = spectrum[rel_gap_idx]-spectrum[0]\n",
    "        d=int(15/rel_gap) #depth for eigenvalue filtering\n",
    "        print(\"d=\", d, \"rel_gap = \", rel_gap, \"rel_overlap\", p0/sum(population[0:(rel_gap_idx)]))\n",
    "        Nsample_rough=int(200/p0**2*np.log(d))#number of samples for rough estimation\n",
    "        Nsample=int(15/p0**2*np.log(d))#number of samples for constructing the loss function\n",
    "        for ix in range(len(T_list_QCELS)):\n",
    "            T = T_list_QCELS[ix]\n",
    "            NT = 5\n",
    "            err_tol_rough=rel_gap/4\n",
    "            ground_energy_estimate_QCELS, cost_list_avg_QCELS[a1,ix], max_T_QCELS[a1,ix] = \\\n",
    "                    qcels_smalloverlap(spectrum, population, T, NT, d, rel_gap, \\\n",
    "                                    err_tol_rough, Nsample_rough, Nsample)#QCELS with time T\n",
    "            err_this_run_QCELS = np.abs(ground_energy_estimate_QCELS - spectrum[0])\n",
    "            err_QCELS[a1,ix] = err_QCELS[a1,ix]+np.abs(err_this_run_QCELS)\n",
    "            if np.abs(err_this_run_QCELS)<err_thres_hold:\n",
    "                n_success_QCELS[ix]+=1\n",
    "\n",
    "       # ----------------- QPE -----------------------\n",
    "        N_try_QPE=int(15*np.ceil(1.0/p0)) #number of QPE samples each time\n",
    "        for ix in range(len(T_list_QPE)):\n",
    "            T = int(T_list_QPE[ix])\n",
    "            discrete_energies = 2*np.pi*np.arange(2*T)/(2*T) - np.pi\n",
    "            dist = generate_QPE_distribution(spectrum,population,2*T) #Generate QPE samples\n",
    "            samp = generate_cdf.draw_with_prob(dist,N_try_QPE)\n",
    "            j_min = samp.min()\n",
    "            ground_energy_estimate_QPE = discrete_energies[j_min]\n",
    "            err_this_run_QPE = np.abs(ground_energy_estimate_QPE-spectrum[0])\n",
    "            err_QPE[a1,ix] = err_QPE[a1,ix]+np.abs(err_this_run_QPE)\n",
    "            if np.abs(err_this_run_QPE)<err_thres_hold_QPE:\n",
    "                n_success_QPE[ix]+=1\n",
    "            cost_list_avg_QPE[a1,ix] = T*N_try_QPE\n",
    "    rate_success_QCELS[a1,:] = n_success_QCELS[:]/Navg\n",
    "    rate_success_QPE[a1,:] = n_success_QPE[:]/Navg\n",
    "    err_QCELS[a1,:] = err_QCELS[a1,:]/Navg\n",
    "    err_QPE[a1,:] = err_QPE[a1,:]/Navg\n"
   ]
  },
  {
   "cell_type": "code",
   "execution_count": 11,
   "metadata": {},
   "outputs": [],
   "source": [
    "np.savez('result_hubbard_4sites_QPE',name1=rate_success_QPE,name2=T_list_QPE,name3=cost_list_avg_QPE,name4=err_QPE)\n",
    "np.savez('result_hubbard_4sites_QCELS',name1=rate_success_QCELS,name2=max_T_QCELS,name3=cost_list_avg_QCELS,name4=err_QCELS)"
   ]
  },
  {
   "cell_type": "code",
   "execution_count": null,
   "metadata": {},
   "outputs": [],
   "source": []
  }
 ],
 "metadata": {
  "kernelspec": {
   "display_name": "Python 3 (ipykernel)",
   "language": "python",
   "name": "python3"
  },
  "language_info": {
   "codemirror_mode": {
    "name": "ipython",
    "version": 3
   },
   "file_extension": ".py",
   "mimetype": "text/x-python",
   "name": "python",
   "nbconvert_exporter": "python",
   "pygments_lexer": "ipython3",
   "version": "3.9.12"
  }
 },
 "nbformat": 4,
 "nbformat_minor": 2
}
